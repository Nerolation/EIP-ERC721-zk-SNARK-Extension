{
 "cells": [
  {
   "cell_type": "code",
   "execution_count": 1,
   "id": "2175d175",
   "metadata": {},
   "outputs": [],
   "source": [
    "# Note that this poc is based on the reply of Vitalik on EthResearch here:\n",
    "# https://ethresear.ch/t/erc721-extension-for-zk-snarks/13237/13\n",
    "\n",
    "# The code is not part of the zk-SNARK implementation an will be moved."
   ]
  },
  {
   "cell_type": "code",
   "execution_count": 2,
   "id": "6bcea120",
   "metadata": {},
   "outputs": [],
   "source": [
    "import hashlib\n",
    "from py_ecc.secp256k1 import *"
   ]
  },
  {
   "cell_type": "markdown",
   "id": "32eb0d0c",
   "metadata": {},
   "source": [
    "$S = G*s$"
   ]
  },
  {
   "cell_type": "code",
   "execution_count": 3,
   "id": "8e2c055f",
   "metadata": {},
   "outputs": [],
   "source": [
    "s = 14 # private key\n",
    "S = secp256k1.privtopub(s.to_bytes(32, \"big\")) # public key"
   ]
  },
  {
   "cell_type": "markdown",
   "id": "17b70742",
   "metadata": {},
   "source": [
    "$P = G*p$"
   ]
  },
  {
   "cell_type": "code",
   "execution_count": 4,
   "id": "46d465c3",
   "metadata": {},
   "outputs": [],
   "source": [
    "p = 3 # private key\n",
    "P = secp256k1.privtopub(p.to_bytes(32, \"big\")) # public key"
   ]
  },
  {
   "cell_type": "markdown",
   "id": "7269f330",
   "metadata": {},
   "source": [
    "$P + G*hash(Q)$"
   ]
  },
  {
   "cell_type": "code",
   "execution_count": 5,
   "id": "71b45db7",
   "metadata": {},
   "outputs": [
    {
     "data": {
      "text/plain": [
       "(65432513086556713562821329433135731516029879652564768452833202431705288230523,\n",
       " 25500868027383163904592665679418298427743747068238443795575936139784929431424)"
      ]
     },
     "execution_count": 5,
     "metadata": {},
     "output_type": "execute_result"
    }
   ],
   "source": [
    "Q = secp256k1.multiply(S, p)\n",
    "assert Q == secp256k1.multiply(P, s)\n",
    "Q_hex = hashlib.sha256(string=str(Q).encode()).hexdigest() # note, toStr conversion\n",
    "Q_hased = bytearray.fromhex(Q_hex)\n",
    "\n",
    "# Sender sends to ...\n",
    "secp256k1.add(P, secp256k1.privtopub(Q_hased))"
   ]
  },
  {
   "cell_type": "markdown",
   "id": "2950e6d5",
   "metadata": {},
   "source": [
    "$p+hash(Q)$"
   ]
  },
  {
   "cell_type": "code",
   "execution_count": 6,
   "id": "f7d7ca14",
   "metadata": {},
   "outputs": [
    {
     "data": {
      "text/plain": [
       "(65432513086556713562821329433135731516029879652564768452833202431705288230523,\n",
       " 25500868027383163904592665679418298427743747068238443795575936139784929431424)"
      ]
     },
     "execution_count": 6,
     "metadata": {},
     "output_type": "execute_result"
    }
   ],
   "source": [
    "p_stealth = p + int(Q_hex, 16)\n",
    "\n",
    "# Recipient has private key to ...\n",
    "P_stealth = secp256k1.privtopub(p_stealth.to_bytes(32, \"big\"))\n",
    "P_stealth"
   ]
  }
 ],
 "metadata": {
  "kernelspec": {
   "display_name": "stealth",
   "language": "python",
   "name": "stealth"
  },
  "language_info": {
   "codemirror_mode": {
    "name": "ipython",
    "version": 3
   },
   "file_extension": ".py",
   "mimetype": "text/x-python",
   "name": "python",
   "nbconvert_exporter": "python",
   "pygments_lexer": "ipython3",
   "version": "3.8.10"
  }
 },
 "nbformat": 4,
 "nbformat_minor": 5
}
